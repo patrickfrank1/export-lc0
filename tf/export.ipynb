{
 "cells": [
  {
   "cell_type": "code",
   "execution_count": 1,
   "metadata": {},
   "outputs": [],
   "source": [
    "import argparse\n",
    "import os\n",
    "import yaml\n",
    "import sys\n",
    "import glob\n",
    "import gzip\n",
    "import random\n",
    "import chess\n",
    "import math\n",
    "import numpy as np\n",
    "import multiprocessing as mp\n",
    "import tensorflow as tf\n",
    "import logging\n",
    "from tfprocess import TFProcess\n",
    "from policy_index import policy_index\n",
    "from timeit import default_timer as timer"
   ]
  },
  {
   "cell_type": "code",
   "execution_count": 16,
   "metadata": {},
   "outputs": [
    {
     "name": "stdout",
     "output_type": "stream",
     "text": [
      "dataset:\n",
      "  allow_less_chunks: true\n",
      "  num_chunks: 1000000\n",
      "  train_ratio: 0.9\n",
      "gpu: None\n",
      "model:\n",
      "  filters: 192\n",
      "  residual_blocks: 15\n",
      "  se_ratio: 6\n",
      "name: 192x15-753522\n",
      "training:\n",
      "  batch_size: 1024\n",
      "  lr_boundaries:\n",
      "  - 120\n",
      "  lr_values:\n",
      "  - 4.0e-05\n",
      "  - 4.0e-05\n",
      "  mask_legal_moves: true\n",
      "  max_grad_norm: 4.2\n",
      "  moves_left_loss_weight: 1.0\n",
      "  num_batch_splits: 1\n",
      "  num_test_positions: 40000\n",
      "  path: ./weights/\n",
      "  policy_loss_weight: 1.0\n",
      "  profile_step_count: 0\n",
      "  profile_step_freq: 1\n",
      "  profile_step_offset: 10\n",
      "  q_ratio: 0\n",
      "  renorm: true\n",
      "  renorm_max_d: 0.0\n",
      "  renorm_max_r: 1.0\n",
      "  shuffle_size: 500000\n",
      "  swa: true\n",
      "  swa_max_n: 10\n",
      "  swa_output: true\n",
      "  swa_steps: 100\n",
      "  test_steps: 500\n",
      "  total_steps: 2000\n",
      "  train_avg_report_steps: 200\n",
      "  validation_steps: 500\n",
      "  value_focus_min: 0.025\n",
      "  value_focus_slope: 3.0\n",
      "  value_loss_weight: 1.0\n",
      "  warmup_steps: 1000\n",
      " {'name': '192x15-753522', 'gpu': 'None', 'dataset': {'num_chunks': 1000000, 'allow_less_chunks': True, 'train_ratio': 0.9}, 'training': {'profile_step_freq': 1, 'profile_step_offset': 10, 'profile_step_count': 0, 'warmup_steps': 1000, 'swa': True, 'swa_output': True, 'swa_max_n': 10, 'swa_steps': 100, 'mask_legal_moves': True, 'renorm': True, 'renorm_max_r': 1.0, 'renorm_max_d': 0.0, 'q_ratio': 0, 'max_grad_norm': 4.2, 'batch_size': 1024, 'num_batch_splits': 1, 'value_focus_min': 0.025, 'value_focus_slope': 3.0, 'test_steps': 500, 'validation_steps': 500, 'num_test_positions': 40000, 'train_avg_report_steps': 200, 'total_steps': 2000, 'shuffle_size': 500000, 'lr_values': [4e-05, 4e-05], 'lr_boundaries': [120], 'policy_loss_weight': 1.0, 'value_loss_weight': 1.0, 'moves_left_loss_weight': 1.0, 'path': './weights/'}, 'model': {'filters': 192, 'residual_blocks': 15, 'se_ratio': 6}}\n"
     ]
    }
   ],
   "source": [
    "tf.get_logger().setLevel(logging.ERROR)\n",
    "cfg = yaml.safe_load(open(\"./configs/config.yaml\", \"r\"))\n",
    "print(yaml.dump(cfg, default_flow_style=False), cfg)"
   ]
  },
  {
   "cell_type": "code",
   "execution_count": 17,
   "metadata": {},
   "outputs": [
    {
     "name": "stderr",
     "output_type": "stream",
     "text": [
      "2022-07-09 15:02:38.248379: I tensorflow/core/platform/cpu_feature_guard.cc:193] This TensorFlow binary is optimized with oneAPI Deep Neural Network Library (oneDNN) to use the following CPU instructions in performance-critical operations:  AVX2 FMA\n",
      "To enable them in other operations, rebuild TensorFlow with the appropriate compiler flags.\n",
      "2022-07-09 15:02:38.250386: I tensorflow/core/common_runtime/process_util.cc:146] Creating new thread pool with default inter op setting: \n"
     ]
    }
   ],
   "source": [
    "tfprocess = TFProcess(cfg)"
   ]
  },
  {
   "cell_type": "code",
   "execution_count": 13,
   "metadata": {},
   "outputs": [
    {
     "ename": "TypeError",
     "evalue": "string indices must be integers",
     "output_type": "error",
     "traceback": [
      "\u001b[0;31m---------------------------------------------------------------------------\u001b[0m",
      "\u001b[0;31mTypeError\u001b[0m                                 Traceback (most recent call last)",
      "\u001b[1;32m/home/pafrank/coding/export-lc0/tf/export.ipynb Cell 4\u001b[0m in \u001b[0;36m<cell line: 1>\u001b[0;34m()\u001b[0m\n\u001b[0;32m----> <a href='vscode-notebook-cell:/home/pafrank/coding/export-lc0/tf/export.ipynb#ch0000003?line=0'>1</a>\u001b[0m cfg[\u001b[39m'\u001b[39;49m\u001b[39mname\u001b[39;49m\u001b[39m'\u001b[39;49m]\n",
      "\u001b[0;31mTypeError\u001b[0m: string indices must be integers"
     ]
    }
   ],
   "source": [
    "cfg['training']['path'], cfg['name']"
   ]
  }
 ],
 "metadata": {
  "kernelspec": {
   "display_name": "Python 3.8.13 64-bit ('base')",
   "language": "python",
   "name": "python3"
  },
  "language_info": {
   "codemirror_mode": {
    "name": "ipython",
    "version": 3
   },
   "file_extension": ".py",
   "mimetype": "text/x-python",
   "name": "python",
   "nbconvert_exporter": "python",
   "pygments_lexer": "ipython3",
   "version": "3.8.13"
  },
  "orig_nbformat": 4,
  "vscode": {
   "interpreter": {
    "hash": "eb6495cf410e417f3220e0d39c267771526ca107b2b496555a6c4f86f994ff59"
   }
  }
 },
 "nbformat": 4,
 "nbformat_minor": 2
}
